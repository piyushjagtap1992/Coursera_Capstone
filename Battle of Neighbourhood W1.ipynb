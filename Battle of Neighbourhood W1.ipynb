{
 "cells": [
  {
   "cell_type": "markdown",
   "metadata": {},
   "source": [
    "## BATTLE OF NEIGHBOURHOOD"
   ]
  },
  {
   "cell_type": "markdown",
   "metadata": {},
   "source": [
    "### Capstone Project Week 1"
   ]
  },
  {
   "cell_type": "markdown",
   "metadata": {},
   "source": [
    "\n",
    "## 1. Introduction Section"
   ]
  },
  {
   "cell_type": "markdown",
   "metadata": {},
   "source": [
    "### 1.1 Description of the Problem and Background"
   ]
  },
  {
   "cell_type": "markdown",
   "metadata": {},
   "source": [
    "##### I am Student who want to pursue my Masters abroad. I currently live within walking distance to Downtown Telok Ayer MRT metro station and I enjoy many ammenities and venues in the area, such as various international cousine restaurants, cafes, food shops and entertainment. I got a opportunity to do my masters study in Manhattan, NY.\n",
    "##### I am very excited and I want to use this opportunity to practice my learnings in Coursera in order to answer relevant questions arisen. The key question is : How can I find a convenient and enjoyable place similar to mine now in Singapore? Certainly, I can use available real estate apps and Google but the idea is to use and apply myself the learned tools during the course.\n",
    "##### In order to make a comparison and evaluation of the rental options in Manhattan NY, I must set some basis, therefore the apartment in Manhattan must meet the following demands like,\n",
    "##### apartment must be 2 or 3 bedrooms\n",
    "##### desired location is near a metro station in the Manhattan area and within 1.0 mile (1.6 km) radius\n",
    "##### price of rent not exceed $7,000 per month\n",
    "##### top amenities in the selected neighborhood shall be similar to current residence desirable to have venues such as coffee shops, restaurants Asian Thai, wine stores, gym and food shops"
   ]
  },
  {
   "cell_type": "markdown",
   "metadata": {},
   "source": [
    "### 1.2 Business Problem"
   ]
  },
  {
   "cell_type": "markdown",
   "metadata": {},
   "source": [
    "##### The challenge is to find a suitable apartment for rent in Manhattan NY that complies with the demands on location, price and venues. The data required to resolve this challenge is in the later section."
   ]
  },
  {
   "cell_type": "markdown",
   "metadata": {},
   "source": [
    "### 1.3 Target Audience"
   ]
  },
  {
   "cell_type": "markdown",
   "metadata": {},
   "source": [
    "##### This challenge is relevant to the many students who pursue higher studies in different countries like USA, European countries and Asian countries. They always want to stay in a place where they are comfortable with, as the Master studies generally have 2 years of duration"
   ]
  },
  {
   "cell_type": "markdown",
   "metadata": {},
   "source": [
    "## 2. Data Section"
   ]
  },
  {
   "cell_type": "markdown",
   "metadata": {},
   "source": [
    "### 2.1 Description of the Data"
   ]
  },
  {
   "cell_type": "markdown",
   "metadata": {},
   "source": [
    "##### The following data is required to answer the issues of the problem:\n",
    "\n",
    "##### - List of Boroughs and neighborhoods of Manhattan with their geodata (latitud and longitud)\n",
    "##### - List of Subway metro stations in Manhattan with their address location\n",
    "##### - List of apartments for rent in Manhattan area with their addresses and price\n",
    "##### - Preferably, a list of apartment for rent with additional information, such as price, address, area, # of beds, etc\n",
    "##### - Venues for each Manhattan neighborhood ( than can be clustered)\n",
    "##### - Venues for subway metro stations, as needed"
   ]
  },
  {
   "cell_type": "markdown",
   "metadata": {},
   "source": [
    "##### The data will be used as follows:\n",
    "\n",
    "##### - Use Foursquare and geopy data to map top 10 venues for all Manhattan neighborhoods and clustered in groups ( as per Course LAB)\n",
    "##### - Use foursquare and geopy data to map the location of subway metro stations , separately and on top of the above clustered map in order to be able to identify the venues and ammenities near each metro station, or explore each subway location separately\n",
    "##### - Use Foursquare and geopy data to map the location of rental places, in some form, linked to the subway locations.\n",
    "##### - create a map that depicts, for instance, the average rental price per square ft, around a radious of 1.0 mile (1.6 km) around each subway station - or a similar metrics. I will be able to quickly point to the popups to know the relative price per subway area.\n",
    "##### - Addresses from rental locations will be converted to geodata( lat, long) using Geopy-distance and Nominatim.\n",
    "##### - Data will be searched in open data sources if available, from real estate sites if open to reading, libraries or other government agencies such as Metro New York MTA, etc."
   ]
  },
  {
   "cell_type": "markdown",
   "metadata": {},
   "source": [
    "##### The procesing of these DATA will allow to answer the key questions to make a decision:\n",
    "\n",
    "##### - what is the cost of rent (per square ft) around a mile radius from each subway metro station?\n",
    "##### - what is the area of Manhattan with best rental pricing that meets criteria established?\n",
    "##### - What is the distance from work place ( Park Ave and 53 rd St) and the tentative future home?\n",
    "##### - What are the venues of the two best places to live? How the prices compare?\n",
    "##### - How venues distribute among Manhattan neighborhoods and around metro stations?\n",
    "##### - Are there tradeoffs between size and price and location?\n",
    "##### - Any other interesting statistical data findings of the real estate and overall data."
   ]
  },
  {
   "cell_type": "markdown",
   "metadata": {},
   "source": [
    "### Import Liabraries"
   ]
  },
  {
   "cell_type": "code",
   "execution_count": 1,
   "metadata": {},
   "outputs": [
    {
     "name": "stdout",
     "output_type": "stream",
     "text": [
      "Solving environment: done\n",
      "\n",
      "\n",
      "==> WARNING: A newer version of conda exists. <==\n",
      "  current version: 4.5.11\n",
      "  latest version: 4.8.3\n",
      "\n",
      "Please update conda by running\n",
      "\n",
      "    $ conda update -n base -c defaults conda\n",
      "\n",
      "\n",
      "\n",
      "# All requested packages already installed.\n",
      "\n",
      "Solving environment: done\n",
      "\n",
      "\n",
      "==> WARNING: A newer version of conda exists. <==\n",
      "  current version: 4.5.11\n",
      "  latest version: 4.8.3\n",
      "\n",
      "Please update conda by running\n",
      "\n",
      "    $ conda update -n base -c defaults conda\n",
      "\n",
      "\n",
      "\n",
      "## Package Plan ##\n",
      "\n",
      "  environment location: /home/jupyterlab/conda/envs/python\n",
      "\n",
      "  added / updated specs: \n",
      "    - folium=0.5.0\n",
      "\n",
      "\n",
      "The following packages will be downloaded:\n",
      "\n",
      "    package                    |            build\n",
      "    ---------------------------|-----------------\n",
      "    pandas-0.24.2              |   py36hf484d3e_0        11.1 MB  conda-forge\n",
      "    requests-2.23.0            |     pyh8c360ce_2          47 KB  conda-forge\n",
      "    altair-4.1.0               |             py_1         614 KB  conda-forge\n",
      "    jsonschema-3.2.0           |   py36h9f0ad1d_1          89 KB  conda-forge\n",
      "    chardet-3.0.4              |py36h9f0ad1d_1006         188 KB  conda-forge\n",
      "    folium-0.5.0               |             py_0          45 KB  conda-forge\n",
      "    toolz-0.10.0               |             py_0          46 KB  conda-forge\n",
      "    cryptography-2.8           |   py36h45558ae_2         628 KB  conda-forge\n",
      "    vincent-0.4.4              |             py_1          28 KB  conda-forge\n",
      "    entrypoints-0.3            |py36h9f0ad1d_1001          12 KB  conda-forge\n",
      "    idna-2.9                   |             py_1          52 KB  conda-forge\n",
      "    pyrsistent-0.16.0          |   py36h8c4c3a4_0          89 KB  conda-forge\n",
      "    branca-0.4.0               |             py_0          26 KB  conda-forge\n",
      "    importlib-metadata-1.6.0   |   py36h9f0ad1d_0          43 KB  conda-forge\n",
      "    markupsafe-1.1.1           |   py36h8c4c3a4_1          26 KB  conda-forge\n",
      "    importlib_metadata-1.6.0   |                0           3 KB  conda-forge\n",
      "    pyopenssl-19.1.0           |             py_1          47 KB  conda-forge\n",
      "    pysocks-1.7.1              |   py36h9f0ad1d_1          27 KB  conda-forge\n",
      "    zipp-3.1.0                 |             py_0          10 KB  conda-forge\n",
      "    urllib3-1.25.7             |   py36h9f0ad1d_1         160 KB  conda-forge\n",
      "    ------------------------------------------------------------\n",
      "                                           Total:        13.2 MB\n",
      "\n",
      "The following NEW packages will be INSTALLED:\n",
      "\n",
      "    altair:             4.1.0-py_1            conda-forge\n",
      "    branca:             0.4.0-py_0            conda-forge\n",
      "    folium:             0.5.0-py_0            conda-forge\n",
      "    importlib-metadata: 1.6.0-py36h9f0ad1d_0  conda-forge\n",
      "    importlib_metadata: 1.6.0-0               conda-forge\n",
      "    pyrsistent:         0.16.0-py36h8c4c3a4_0 conda-forge\n",
      "    vincent:            0.4.4-py_1            conda-forge\n",
      "    zipp:               3.1.0-py_0            conda-forge\n",
      "\n",
      "The following packages will be UPDATED:\n",
      "\n",
      "    attrs:              18.2.0-py37h28b3542_0             --> 19.3.0-py_0             conda-forge\n",
      "    chardet:            3.0.4-py37_1                      --> 3.0.4-py36h9f0ad1d_1006 conda-forge\n",
      "    cryptography:       2.3.1-py37hc365091_0              --> 2.8-py36h45558ae_2      conda-forge\n",
      "    entrypoints:        0.2.3-py37_2                      --> 0.3-py36h9f0ad1d_1001   conda-forge\n",
      "    idna:               2.7-py37_0                        --> 2.9-py_1                conda-forge\n",
      "    jinja2:             2.10-py37_0                       --> 2.11.1-py_0             conda-forge\n",
      "    jsonschema:         2.6.0-py37_0                      --> 3.2.0-py36h9f0ad1d_1    conda-forge\n",
      "    markupsafe:         1.0-py37h14c3975_1                --> 1.1.1-py36h8c4c3a4_1    conda-forge\n",
      "    pandas:             0.23.4-py37h04863e7_0             --> 0.24.2-py36hf484d3e_0   conda-forge\n",
      "    pyopenssl:          18.0.0-py37_0                     --> 19.1.0-py_1             conda-forge\n",
      "    pysocks:            1.6.8-py37_0                      --> 1.7.1-py36h9f0ad1d_1    conda-forge\n",
      "    pytz:               2018.5-py37_0                     --> 2019.3-py_0             conda-forge\n",
      "    requests:           2.19.1-py37_0                     --> 2.23.0-pyh8c360ce_2     conda-forge\n",
      "    toolz:              0.9.0-py37_0                      --> 0.10.0-py_0             conda-forge\n",
      "    urllib3:            1.23-py37_0                       --> 1.25.7-py36h9f0ad1d_1   conda-forge\n",
      "\n",
      "\n",
      "Downloading and Extracting Packages\n",
      "pandas-0.24.2        | 11.1 MB   | ##################################### | 100% \n",
      "requests-2.23.0      | 47 KB     | ##################################### | 100% \n",
      "altair-4.1.0         | 614 KB    | ##################################### | 100% \n",
      "jsonschema-3.2.0     | 89 KB     | ##################################### | 100% \n",
      "chardet-3.0.4        | 188 KB    | ##################################### | 100% \n",
      "folium-0.5.0         | 45 KB     | ##################################### | 100% \n",
      "toolz-0.10.0         | 46 KB     | ##################################### | 100% \n",
      "cryptography-2.8     | 628 KB    | ##################################### | 100% \n",
      "vincent-0.4.4        | 28 KB     | ##################################### | 100% \n",
      "entrypoints-0.3      | 12 KB     | ##################################### | 100% \n",
      "idna-2.9             | 52 KB     | ##################################### | 100% \n",
      "pyrsistent-0.16.0    | 89 KB     | ##################################### | 100% \n",
      "branca-0.4.0         | 26 KB     | ##################################### | 100% \n",
      "importlib-metadata-1 | 43 KB     | ##################################### | 100% \n",
      "markupsafe-1.1.1     | 26 KB     | ##################################### | 100% \n",
      "importlib_metadata-1 | 3 KB      | ##################################### | 100% \n",
      "pyopenssl-19.1.0     | 47 KB     | ##################################### | 100% \n",
      "pysocks-1.7.1        | 27 KB     | ##################################### | 100% \n",
      "zipp-3.1.0           | 10 KB     | ##################################### | 100% \n",
      "urllib3-1.25.7       | 160 KB    | ##################################### | 100% \n",
      "Preparing transaction: done\n",
      "Verifying transaction: done\n",
      "Executing transaction: done\n",
      "Libraries imported.\n"
     ]
    }
   ],
   "source": [
    "import numpy as np # library to handle data in a vectorized manner\n",
    "import time\n",
    "import pandas as pd # library for data analsysis\n",
    "pd.set_option('display.max_columns', None)\n",
    "pd.set_option('display.max_rows', None)\n",
    "\n",
    "!conda install -c conda-forge geopy --yes \n",
    "\n",
    "import json # library to handle JSON files\n",
    "import requests # library to handle requests\n",
    "from pandas.io.json import json_normalize # tranform JSON file into a pandas dataframe\n",
    "\n",
    "from geopy.geocoders import Nominatim # convert an address into latitude and longitude values\n",
    "!conda install -c conda-forge folium=0.5.0 --yes # uncomment this line if you haven't completed the Foursquare API lab\n",
    "import folium # map rendering library\n",
    "\n",
    "print('Libraries imported.')"
   ]
  },
  {
   "cell_type": "code",
   "execution_count": null,
   "metadata": {},
   "outputs": [],
   "source": []
  }
 ],
 "metadata": {
  "kernelspec": {
   "display_name": "Python",
   "language": "python",
   "name": "conda-env-python-py"
  },
  "language_info": {
   "codemirror_mode": {
    "name": "ipython",
    "version": 3
   },
   "file_extension": ".py",
   "mimetype": "text/x-python",
   "name": "python",
   "nbconvert_exporter": "python",
   "pygments_lexer": "ipython3",
   "version": "3.6.10"
  }
 },
 "nbformat": 4,
 "nbformat_minor": 4
}
